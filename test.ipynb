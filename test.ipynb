{
 "cells": [
  {
   "cell_type": "code",
   "execution_count": 3,
   "metadata": {},
   "outputs": [],
   "source": [
    "import numpy as np\n",
    "import pandas as pd"
   ]
  },
  {
   "cell_type": "code",
   "execution_count": 4,
   "metadata": {},
   "outputs": [],
   "source": [
    "data_path = './calc_data.xlsx'\n",
    "df = pd.read_excel(data_path, index_col=0, parse_dates=['Date'])\n",
    "df['const'] = 1\n",
    "y = df.IdxMonRet.values\n",
    "X = df[['Rmrf_mc', 'Smb_mc', 'Hml_mc', 'const']].values"
   ]
  },
  {
   "cell_type": "code",
   "execution_count": 6,
   "metadata": {},
   "outputs": [
    {
     "data": {
      "text/html": [
       "<div>\n",
       "<style scoped>\n",
       "    .dataframe tbody tr th:only-of-type {\n",
       "        vertical-align: middle;\n",
       "    }\n",
       "\n",
       "    .dataframe tbody tr th {\n",
       "        vertical-align: top;\n",
       "    }\n",
       "\n",
       "    .dataframe thead th {\n",
       "        text-align: right;\n",
       "    }\n",
       "</style>\n",
       "<table border=\"1\" class=\"dataframe\">\n",
       "  <thead>\n",
       "    <tr style=\"text-align: right;\">\n",
       "      <th></th>\n",
       "      <th>Rmrf_mc</th>\n",
       "      <th>Smb_mc</th>\n",
       "      <th>Hml_mc</th>\n",
       "      <th>IdxMonRet</th>\n",
       "      <th>const</th>\n",
       "    </tr>\n",
       "    <tr>\n",
       "      <th>Date</th>\n",
       "      <th></th>\n",
       "      <th></th>\n",
       "      <th></th>\n",
       "      <th></th>\n",
       "      <th></th>\n",
       "    </tr>\n",
       "  </thead>\n",
       "  <tbody>\n",
       "    <tr>\n",
       "      <th>2021-01-29</th>\n",
       "      <td>-0.0015</td>\n",
       "      <td>-0.1010</td>\n",
       "      <td>-0.0313</td>\n",
       "      <td>0.0270</td>\n",
       "      <td>1</td>\n",
       "    </tr>\n",
       "    <tr>\n",
       "      <th>2021-02-26</th>\n",
       "      <td>-0.0051</td>\n",
       "      <td>0.0395</td>\n",
       "      <td>0.0484</td>\n",
       "      <td>-0.0028</td>\n",
       "      <td>1</td>\n",
       "    </tr>\n",
       "    <tr>\n",
       "      <th>2021-03-31</th>\n",
       "      <td>-0.0271</td>\n",
       "      <td>0.0564</td>\n",
       "      <td>0.0514</td>\n",
       "      <td>-0.0540</td>\n",
       "      <td>1</td>\n",
       "    </tr>\n",
       "    <tr>\n",
       "      <th>2021-04-30</th>\n",
       "      <td>0.0143</td>\n",
       "      <td>-0.0167</td>\n",
       "      <td>-0.0177</td>\n",
       "      <td>0.0149</td>\n",
       "      <td>1</td>\n",
       "    </tr>\n",
       "    <tr>\n",
       "      <th>2021-05-31</th>\n",
       "      <td>0.0491</td>\n",
       "      <td>0.0327</td>\n",
       "      <td>-0.0041</td>\n",
       "      <td>0.0406</td>\n",
       "      <td>1</td>\n",
       "    </tr>\n",
       "  </tbody>\n",
       "</table>\n",
       "</div>"
      ],
      "text/plain": [
       "            Rmrf_mc  Smb_mc  Hml_mc  IdxMonRet  const\n",
       "Date                                                 \n",
       "2021-01-29  -0.0015 -0.1010 -0.0313     0.0270      1\n",
       "2021-02-26  -0.0051  0.0395  0.0484    -0.0028      1\n",
       "2021-03-31  -0.0271  0.0564  0.0514    -0.0540      1\n",
       "2021-04-30   0.0143 -0.0167 -0.0177     0.0149      1\n",
       "2021-05-31   0.0491  0.0327 -0.0041     0.0406      1"
      ]
     },
     "execution_count": 6,
     "metadata": {},
     "output_type": "execute_result"
    }
   ],
   "source": [
    "df.head()"
   ]
  },
  {
   "cell_type": "code",
   "execution_count": null,
   "metadata": {},
   "outputs": [],
   "source": []
  }
 ],
 "metadata": {
  "interpreter": {
   "hash": "3ded034c841dcad8c1c7de5bf0fe48095eeb0f021c7f0cd605d40587a8641418"
  },
  "kernelspec": {
   "display_name": "Python 3.8.13 ('env_torch')",
   "language": "python",
   "name": "python3"
  },
  "language_info": {
   "codemirror_mode": {
    "name": "ipython",
    "version": 3
   },
   "file_extension": ".py",
   "mimetype": "text/x-python",
   "name": "python",
   "nbconvert_exporter": "python",
   "pygments_lexer": "ipython3",
   "version": "3.8.13"
  },
  "orig_nbformat": 4
 },
 "nbformat": 4,
 "nbformat_minor": 2
}
